{
 "cells": [
  {
   "cell_type": "markdown",
   "metadata": {},
   "source": [
    "### Lab5 - Zadanie domowe - Radosław Kawa"
   ]
  },
  {
   "cell_type": "markdown",
   "metadata": {},
   "source": [
    "Na podstawie:\n",
    "1. Alfabetu A, w którym każda litera oznacza akcję,\n",
    "2. Zestawu transakcji na zmiennych\n",
    "3. Słowa w oznaczające przykładowe wykonanie sekwencji akcji.\n",
    "\n",
    "Program wyznacza:\n",
    "1. Wyznacza relację zależności D.\n",
    "2. Wyznacza relację niezależności I.\n",
    "3. Wyznacza postać normalną Foaty FNF([w]) śladu [w]\n",
    "4. Rysuje graf zależności w postaci minimalnej dla słowa w.\n",
    "\n",
    "Relacja zależności jak i niezależności są tworzone na podstawie zdefiniowanych transakcji na zmiennych.\n",
    "\n",
    "Postać normalna Foaty jest wyznaczana za pomocą prostego algorytmu do obliczania postaci normalnych. Algorytm ten polega na utworzeniu oznaczonych stosów dla każdego elementu alfabetu. Następnie, czytając słowo od prawej do lewej dodajemy elementy na stosy zgodnie z regułami:\n",
    "* Badana litera jest dodawana na swój stos.\n",
    "* Litery, które są zależne od badanej litery (inaczej wszystkie litery które w grafie zależności mają połączenie z badaną literą) na swoje stosy mają dodawaną gwiazdkę (*).\n",
    "\n",
    "W celu odczytania postaci normalnej Foaty należy brać w pętli zbiór utworzony przez litery znajdujących się na wierzchołkach stosów. Dla każdej litery z czubka stosu,\n",
    "patrzymy na litery połączone w grafie zależności i dla tych liter usuwamy dodane wcześniej gwiazdki. Pętla jest powtarzana do momentu opróżnienia wszystkich\n",
    "stosów.\n",
    "\n",
    "Minimalny graf zależności jest tworzony za pomocą prostego algorytmu, który idąc po słowie od prawej do lewej dodaje do zbioru MIN wszystkie wierzchołki, które\n",
    "odwiedził. Następnie dla każdego wierzchołka z MIN, jeżeli dany wierzchołek ze zbioru MIN jest zależny od badanego wierzchołka (badanej litery słowa) to jest on\n",
    "dodawany do diagramu Hassego. Po wykonaniu tego algorytmu wykonywana jest metoda transitive reduction, która usuwa wszystkie zbędne krawędzie z grafu."
   ]
  },
  {
   "cell_type": "markdown",
   "metadata": {},
   "source": [
    "### Użycie programu:"
   ]
  },
  {
   "cell_type": "markdown",
   "metadata": {},
   "source": [
    "Każdy program jest w formacie tekstowym:\n",
    "\n",
    "```\n",
    "A = {a, b, c, d}\n",
    "w = baadcb\n",
    "(a) x := x + y\n",
    "(b) y := y + 2z\n",
    "(c) x := 3x + z\n",
    "(d) z := y − z\n",
    "```\n",
    "gdzie:\n",
    "* A - alfabet\n",
    "* w - słowo\n",
    "\n",
    "W celu analizy danego problemu należy zaimportować moduł fnf i wywołać funkcję analyze_problem ze ścieżką pliku jako arugment pierwszy, oraz z drugim,\n",
    "opcjonalnym argumentem draw_graph , który korzystając z biblioteki networkx rysuje graf Hassego. \n",
    "\n",
    "Przykład:\n",
    "```\n",
    "import fnf\n",
    "fnf.analyze_problem(\"problems/problem1.txt\", draw_graph=True)\n",
    "```\n",
    "Przykładowe wywołanie programu znajduje się w pliku main.py .\n",
    "\n",
    "**Uwaga**: Przed uruchomieniem programu należy zainstalować bibliotekę networkx za pomocą polecenia pip install network"
   ]
  },
  {
   "cell_type": "markdown",
   "metadata": {},
   "source": [
    "### Wyniki programu:\n",
    "#### Przykład 1:\n",
    "\n",
    "A = {'b', 'd', 'c', 'a'}\n",
    "\n",
    "w = baadcb\n",
    "\n",
    "D = [('a', 'a'), ('a', 'b'), ('a', 'c'), ('b', 'a'), ('b', 'b'), ('b', 'd'), ('c', 'a'), ('c', 'c'), ('c', 'd'), ('d', 'b'), ('d', 'c'), ('d', 'd')]\n",
    "\n",
    "I = [('a', 'd'), ('b', 'c'), ('c', 'b'), ('d', 'a')]\n",
    "\n",
    "Word's dependence graph: {0: {1, 2, 3, 5}, 1: {2, 4, 5}, 2: {4, 5}, 3: {4, 5}, 4: set(), 5: set()}\n",
    "\n",
    "Foata normal form: (b)(da)(a)(bc)\n",
    "\n",
    "Hasse diagram: [(0, 1), (0, 3), (1, 2), (2, 4), (2, 5), (3, 4), (3, 5)]\n",
    "\n",
    "Hasse diagram dot file: \n",
    "```\n",
    "digraph G {\n",
    "\t3 -> 4\n",
    "\t3 -> 5\n",
    "\t2 -> 4\n",
    "\t2 -> 5\n",
    "\t1 -> 2\n",
    "\t0 -> 1\n",
    "\t0 -> 3\n",
    "\n",
    "\t0 [label=\"b\"]\n",
    "\t1 [label=\"a\"]\n",
    "\t2 [label=\"a\"]\n",
    "\t3 [label=\"d\"]\n",
    "\t4 [label=\"c\"]\n",
    "\t5 [label=\"b\"]\n",
    "}\n",
    "```"
   ]
  },
  {
   "cell_type": "markdown",
   "metadata": {},
   "source": [
    "#### Przykład 2:\n",
    "\n",
    "A = {'c', 'd', 'f', 'b', 'e', 'a'} \n",
    "\n",
    "w = acdcfbbe\n",
    "\n",
    "D = [('a', 'a'), ('a', 'c'), ('a', 'f'), ('b', 'b'), ('b', 'e'), ('c', 'a'), ('c', 'c'), ('c', 'e'), ('c', 'f'), ('d', 'd'), ('d', 'f'), ('e', 'b'), ('e', 'c'), ('e', 'e'), ('f', 'a'), ('f', 'c'), ('f', 'd'), ('f', 'f')]\n",
    "\n",
    "I = [('a', 'b'), ('a', 'd'), ('a', 'e'), ('b', 'a'), ('b', 'c'), ('b', 'd'), ('b', 'f'), ('c', 'b'), ('c', 'd'), ('d', 'a'), ('d', 'b'), ('d', 'c'), ('d', 'e'), ('e', 'a'), ('e', 'd'), ('e', 'f'), ('f', 'b'), ('f', 'e')]\n",
    "\n",
    "Word's dependence graph: {0: {1, 3, 4}, 1: {3, 4, 7}, 2: {4}, 3: {4, 7}, 4: set(), 5: {6, 7}, 6: {7}, 7: set()}\n",
    "\n",
    "Foata normal form: (bda)(bc)(c)(ef)\n",
    "\n",
    "Hasse diagram: [(0, 1), (1, 3), (2, 4), (3, 4), (3, 7), (5, 6), (6, 7)]\n",
    "\n",
    "Hasse diagram dot file: \n",
    "```\n",
    "digraph G {\n",
    "\t6 -> 7\n",
    "\t5 -> 6\n",
    "\t3 -> 4\n",
    "\t3 -> 7\n",
    "\t2 -> 4\n",
    "\t1 -> 3\n",
    "\t0 -> 1\n",
    "\n",
    "\t0 [label=\"a\"]\n",
    "\t1 [label=\"c\"]\n",
    "\t2 [label=\"d\"]\n",
    "\t3 [label=\"c\"]\n",
    "\t4 [label=\"f\"]\n",
    "\t5 [label=\"b\"]\n",
    "\t6 [label=\"b\"]\n",
    "\t7 [label=\"e\"]\n",
    "}\n",
    "```"
   ]
  }
 ],
 "metadata": {
  "kernelspec": {
   "display_name": "Python 3 (ipykernel)",
   "language": "python",
   "name": "python3"
  },
  "language_info": {
   "codemirror_mode": {
    "name": "ipython",
    "version": 3
   },
   "file_extension": ".py",
   "mimetype": "text/x-python",
   "name": "python",
   "nbconvert_exporter": "python",
   "pygments_lexer": "ipython3",
   "version": "3.11.1"
  }
 },
 "nbformat": 4,
 "nbformat_minor": 4
}
